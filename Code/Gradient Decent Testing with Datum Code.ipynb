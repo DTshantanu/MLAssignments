{
 "cells": [
  {
   "cell_type": "code",
   "execution_count": 72,
   "metadata": {},
   "outputs": [],
   "source": [
    "import csv\n",
    "import numpy as np\n",
    "import scipy as sp\n",
    "import matplotlib\n",
    "from matplotlib import pyplot as plt"
   ]
  },
  {
   "cell_type": "code",
   "execution_count": 73,
   "metadata": {},
   "outputs": [],
   "source": [
    "def get_data(filepath):\n",
    "    f=open(filepath,'r')\n",
    "    \n",
    "    #predictor collection\n",
    "    \n",
    "    X1=[]\n",
    "    X2=[]\n",
    "    X3=[]\n",
    "    X4=[]\n",
    "    X5=[]\n",
    "    X6=[]\n",
    "    \n",
    "    #output response collection\n",
    "    \n",
    "    Y=[]\n",
    "    \n",
    "    # Read file\n",
    "    \n",
    "    reader=csv.reader(f)\n",
    "    \n",
    "    for row in reader:\n",
    "        X1.append(float(row[2]))\n",
    "        X2.append(float(row[3]))\n",
    "        X3.append(float(row[4]))\n",
    "        X4.append(float(row[5]))\n",
    "        X5.append(float(row[6]))\n",
    "        X6.append(float(row[7]))\n",
    "        Y.append(float(row[8]))\n",
    "    \n",
    "    f.close()\n",
    "    \n",
    "    return([np.array(X1),np.array(X2),np.array(X3),np.array(X4),np.array(X5),np.array(X6)],np.array(Y))"
   ]
  },
  {
   "cell_type": "code",
   "execution_count": 74,
   "metadata": {},
   "outputs": [],
   "source": [
    "def RSS(x, y, betas):\n",
    "    rss = 0\n",
    "    for i in range(x[0].shape[0]):\n",
    "        predicted_value = (betas[0] + (betas[1] * x[0][i]) + (betas[2] * x[1][i]) + (betas[3] * x[2][i]) + (betas[4] * x[3][i]) + (betas[5] * x[4][i]) + (betas[6] * x[5][i]))\n",
    "        actual_value = y[i]\n",
    "        rss = rss + ((predicted_value - actual_value)**2)     \n",
    "        return (np.sqrt(rss/x[0].shape[0]))\n",
    "        #return rss"
   ]
  },
  {
   "cell_type": "code",
   "execution_count": 75,
   "metadata": {},
   "outputs": [],
   "source": [
    "def predicted_value_for_ithRow(X,i,betas):\n",
    "    return (betas[0] + (betas[1]*X[0][i]) + (betas[2]*X[1][i]) + (betas[3]*X[2][i]) + (betas[4]*X[3][i]) \n",
    "            + (betas[5]*X[4][i]) + (betas[6]*X[5][i]))"
   ]
  },
  {
   "cell_type": "code",
   "execution_count": 76,
   "metadata": {},
   "outputs": [],
   "source": [
    "def gradientDescentAlgorithm(x, y, learning_rate):\n",
    "\n",
    "    print (\"Training Linear Regression Model using Gradient Descent\")\n",
    "    maximum_iterations = 2500\n",
    "    converge_status = False\n",
    "\n",
    "    # num_rows stores the number of datapoints in the current dataset provided for training.\n",
    "    num_rows = x[0].shape[0]\n",
    "\n",
    "    # Initial Value of parameters ((beta_0, beta_1) - for our simple linear regression case)\n",
    "    betas = [0,0,0,0,0,0,0]\n",
    "\n",
    "    # Initial Error or RSS(beta_0,beta_1) based on the initial parameter values\n",
    "    error = RSS(x, y, betas)\n",
    "    print('Initial Value of RSS (Cost Function)=', error);\n",
    "\n",
    "    # Iterate Loop\n",
    "    num_iter = 0\n",
    "    while not converge_status:\n",
    "        # for each training sample, compute the gradient (d/d_beta j(beta))\n",
    "        gradient_0 = 1.0/num_rows * sum([(predicted_value_for_ithRow(x,i,betas) - y[i]) for i in range(num_rows)]) \n",
    "        gradient_1 = 1.0/num_rows * sum([(predicted_value_for_ithRow(x,i,betas) - y[i])*x[0][i] for i in range(num_rows)])\n",
    "        gradient_2 = 1.0/num_rows * sum([(predicted_value_for_ithRow(x,i,betas) - y[i])*x[1][i] for i in range(num_rows)])\n",
    "        gradient_3 = 1.0/num_rows * sum([(predicted_value_for_ithRow(x,i,betas) - y[i])*x[2][i] for i in range(num_rows)])\n",
    "        gradient_4 = 1.0/num_rows * sum([(predicted_value_for_ithRow(x,i,betas) - y[i])*x[3][i] for i in range(num_rows)])\n",
    "        gradient_5 = 1.0/num_rows * sum([(predicted_value_for_ithRow(x,i,betas) - y[i])*x[4][i] for i in range(num_rows)])\n",
    "        gradient_6 = 1.0/num_rows * sum([(predicted_value_for_ithRow(x,i,betas) - y[i])*x[5][i] for i in range(num_rows)])\n",
    "        \n",
    "        # Computation of new parameters according to the current gradient.\n",
    "        temp0 = betas[0] - learning_rate * gradient_0\n",
    "        temp1 = betas[1] - learning_rate * gradient_1\n",
    "        temp2 = betas[2] - learning_rate * gradient_2\n",
    "        temp3 = betas[3] - learning_rate * gradient_3\n",
    "        temp4 = betas[4] - learning_rate * gradient_4\n",
    "        temp5 = betas[5] - learning_rate * gradient_5\n",
    "        temp6 = betas[6] - learning_rate * gradient_6\n",
    "\n",
    "         # Simultaneous Update of Parameters Beta_0 and Beta_1.\n",
    "        betas[0] = temp0\n",
    "        betas[1] = temp1\n",
    "        betas[2] = temp2\n",
    "        betas[3] = temp3\n",
    "        betas[4] = temp4\n",
    "        betas[5] = temp5\n",
    "        betas[6] = temp6\n",
    "\n",
    "\n",
    "        current_error = RSS(x, y, betas)\n",
    "\n",
    "        if num_iter % 250 == 0:\n",
    "            print ('Iteration',num_iter+1,'Current Value of RSS (Cost Function) based on updated values of beta parameters = ', current_error)\n",
    "\n",
    "        error = current_error   # update error\n",
    "        num_iter = num_iter + 1  # update iter\n",
    "\n",
    "        if num_iter == maximum_iterations:\n",
    "            print (\"Training Interrupted as Maximum number of iterations were crossed.\\n\\n\")\n",
    "            converge_status = True\n",
    "\n",
    "    return (betas)"
   ]
  },
  {
   "cell_type": "code",
   "execution_count": 77,
   "metadata": {},
   "outputs": [],
   "source": [
    "def predict(coef,X):\n",
    "    beta_0 = coef[0]\n",
    "    beta_1 = coef[1]\n",
    "    beta_2 = coef[2]\n",
    "    beta_3 = coef[3]\n",
    "    beta_4 = coef[4]\n",
    "    beta_5 = coef[5]\n",
    "    beta_6 = coef[6]\n",
    "    \n",
    "\n",
    "    fy = []\n",
    "    if len(X) > 1:\n",
    "        for x in X:\n",
    "            fy.append(beta_0 + (beta_1 * x[0])+ (beta_2 * x[1])+ (beta_3 * x[2])+ (beta_4 * x[3])+ (beta_5 * x[4])\n",
    "                      + (beta_6 * x[5]))\n",
    "            return fy\n",
    "\n",
    "# Our Regression Model defined using the coefficients from slr function\n",
    "    x=X[0]\n",
    "    Y = beta_0 + (beta_1 * x[0])+ (beta_2 * x[1])+ (beta_3 * x[2])+ (beta_4 * x[3])+ (beta_5 * x[4])\n",
    "    + (beta_6 * x[5])\n",
    "    return Y"
   ]
  },
  {
   "cell_type": "code",
   "execution_count": 78,
   "metadata": {},
   "outputs": [
    {
     "name": "stdout",
     "output_type": "stream",
     "text": [
      "Training Linear Regression Model using Gradient Descent\n",
      "('Initial Value of RSS (Cost Function)=', 13.695946384548277)\n",
      "('Iteration', 1, 'Current Value of RSS (Cost Function) based on updated values of beta parameters = ', 13.094087645240192)\n",
      "('Iteration', 251, 'Current Value of RSS (Cost Function) based on updated values of beta parameters = ', 10.098774869242488)\n",
      "('Iteration', 501, 'Current Value of RSS (Cost Function) based on updated values of beta parameters = ', 10.34662344860731)\n",
      "('Iteration', 751, 'Current Value of RSS (Cost Function) based on updated values of beta parameters = ', 10.463392162197925)\n",
      "('Iteration', 1001, 'Current Value of RSS (Cost Function) based on updated values of beta parameters = ', 10.518277589644175)\n",
      "('Iteration', 1251, 'Current Value of RSS (Cost Function) based on updated values of beta parameters = ', 10.543939541233122)\n",
      "('Iteration', 1501, 'Current Value of RSS (Cost Function) based on updated values of beta parameters = ', 10.55579309244378)\n",
      "('Iteration', 1751, 'Current Value of RSS (Cost Function) based on updated values of beta parameters = ', 10.561114095363898)\n",
      "('Iteration', 2001, 'Current Value of RSS (Cost Function) based on updated values of beta parameters = ', 10.563336824868411)\n",
      "('Iteration', 2251, 'Current Value of RSS (Cost Function) based on updated values of beta parameters = ', 10.56408239437591)\n",
      "Training Interrupted as Maximum number of iterations were crossed.\n",
      "\n",
      "\n"
     ]
    }
   ],
   "source": [
    "X,Y = get_data(\"hardware.csv\")\n",
    "coefficients = gradientDescentAlgorithm(X,Y,0.0000000005)"
   ]
  },
  {
   "cell_type": "code",
   "execution_count": 79,
   "metadata": {},
   "outputs": [
    {
     "name": "stdout",
     "output_type": "stream",
     "text": [
      "\n",
      "\n",
      "Accuracy Metrics of the model\n",
      "-------------------------------------\n",
      "('Residual Standard Error:', 77.02377378644164)\n",
      "('% Residual Standard Error (over average Interval):', 72.9239806177409)\n",
      "('\\nR-Squared Value:', 0.7717459386849491)\n"
     ]
    }
   ],
   "source": [
    "## Performance Evaluation ##\n",
    "############################\n",
    "\n",
    "print (\"\\n\\nAccuracy Metrics of the model\\n-------------------------------------\")\n",
    "\n",
    "# Calculation of RSE\n",
    "RSS = 0\n",
    "X = np.transpose(X)\n",
    "for idx in range(0,len(X)):\n",
    "\tactual_y = Y[idx]\n",
    "\tpredicted_y = predict(coefficients,[X[idx,0:6]])\n",
    "\tRSS = RSS + ((actual_y - predicted_y)**2)\n",
    "RSE = np.sqrt((1/float(X.shape[0]-2))*RSS)\n",
    "\n",
    "print (\"Residual Standard Error:\",RSE)\n",
    "print (\"% Residual Standard Error (over average Interval):\", (RSE/np.mean(Y))*100)\n",
    "\n",
    "\n",
    "# Calculation of R_Squared\n",
    "TSS = 0\n",
    "for idx in range(0,len(X)):\n",
    "\tactual_y = Y[idx]\n",
    "\tTSS = TSS + ((actual_y - np.mean(Y))**2)\n",
    "R_Squared = ((TSS) - (RSS)) / (TSS)\n",
    "\n",
    "print (\"\\nR-Squared Value:\",R_Squared)"
   ]
  },
  {
   "cell_type": "code",
   "execution_count": null,
   "metadata": {},
   "outputs": [],
   "source": []
  }
 ],
 "metadata": {
  "kernelspec": {
   "display_name": "Python 2",
   "language": "python",
   "name": "python2"
  },
  "language_info": {
   "codemirror_mode": {
    "name": "ipython",
    "version": 2
   },
   "file_extension": ".py",
   "mimetype": "text/x-python",
   "name": "python",
   "nbconvert_exporter": "python",
   "pygments_lexer": "ipython2",
   "version": "2.7.15"
  }
 },
 "nbformat": 4,
 "nbformat_minor": 2
}
