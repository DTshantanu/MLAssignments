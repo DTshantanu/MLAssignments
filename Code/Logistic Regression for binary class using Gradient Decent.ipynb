{
 "cells": [
  {
   "cell_type": "code",
   "execution_count": 138,
   "metadata": {},
   "outputs": [],
   "source": [
    "import pandas as pd\n",
    "import numpy as np\n",
    "import matplotlib.pyplot as plt"
   ]
  },
  {
   "cell_type": "code",
   "execution_count": 139,
   "metadata": {},
   "outputs": [
    {
     "data": {
      "text/html": [
       "<div>\n",
       "<style scoped>\n",
       "    .dataframe tbody tr th:only-of-type {\n",
       "        vertical-align: middle;\n",
       "    }\n",
       "\n",
       "    .dataframe tbody tr th {\n",
       "        vertical-align: top;\n",
       "    }\n",
       "\n",
       "    .dataframe thead th {\n",
       "        text-align: right;\n",
       "    }\n",
       "</style>\n",
       "<table border=\"1\" class=\"dataframe\">\n",
       "  <thead>\n",
       "    <tr style=\"text-align: right;\">\n",
       "      <th></th>\n",
       "      <th>SepalLengthcm</th>\n",
       "      <th>SepalWidthcm</th>\n",
       "      <th>PetalLengthcm</th>\n",
       "      <th>PetalWidthcm</th>\n",
       "      <th>Species</th>\n",
       "    </tr>\n",
       "  </thead>\n",
       "  <tbody>\n",
       "    <tr>\n",
       "      <th>145</th>\n",
       "      <td>6.7</td>\n",
       "      <td>3.0</td>\n",
       "      <td>5.2</td>\n",
       "      <td>2.3</td>\n",
       "      <td>Iris-virginica</td>\n",
       "    </tr>\n",
       "    <tr>\n",
       "      <th>146</th>\n",
       "      <td>6.3</td>\n",
       "      <td>2.5</td>\n",
       "      <td>5.0</td>\n",
       "      <td>1.9</td>\n",
       "      <td>Iris-virginica</td>\n",
       "    </tr>\n",
       "    <tr>\n",
       "      <th>147</th>\n",
       "      <td>6.5</td>\n",
       "      <td>3.0</td>\n",
       "      <td>5.2</td>\n",
       "      <td>2.0</td>\n",
       "      <td>Iris-virginica</td>\n",
       "    </tr>\n",
       "    <tr>\n",
       "      <th>148</th>\n",
       "      <td>6.2</td>\n",
       "      <td>3.4</td>\n",
       "      <td>5.4</td>\n",
       "      <td>2.3</td>\n",
       "      <td>Iris-virginica</td>\n",
       "    </tr>\n",
       "    <tr>\n",
       "      <th>149</th>\n",
       "      <td>5.9</td>\n",
       "      <td>3.0</td>\n",
       "      <td>5.1</td>\n",
       "      <td>1.8</td>\n",
       "      <td>Iris-virginica</td>\n",
       "    </tr>\n",
       "  </tbody>\n",
       "</table>\n",
       "</div>"
      ],
      "text/plain": [
       "     SepalLengthcm  SepalWidthcm  PetalLengthcm  PetalWidthcm         Species\n",
       "145            6.7           3.0            5.2           2.3  Iris-virginica\n",
       "146            6.3           2.5            5.0           1.9  Iris-virginica\n",
       "147            6.5           3.0            5.2           2.0  Iris-virginica\n",
       "148            6.2           3.4            5.4           2.3  Iris-virginica\n",
       "149            5.9           3.0            5.1           1.8  Iris-virginica"
      ]
     },
     "execution_count": 139,
     "metadata": {},
     "output_type": "execute_result"
    }
   ],
   "source": [
    "df = pd.read_csv('iris.csv',names=['SepalLengthcm','SepalWidthcm','PetalLengthcm','PetalWidthcm','Species'])\n",
    "\n",
    "df.tail(5)"
   ]
  },
  {
   "cell_type": "code",
   "execution_count": 140,
   "metadata": {},
   "outputs": [],
   "source": [
    "# extract sepal length and sepal width of setosa and versicolor for our binary calssification problem\n",
    "X = df.iloc[:, 0:4].values\n",
    "\n",
    "y = df.iloc[:, 4].values\n",
    "# set output lable value to 1 if it is setosa and 0 if versicolor.\n",
    "y = np.where(y == 'Iris-setosa', 1, 0)\n",
    "#print(X[:,0])"
   ]
  },
  {
   "cell_type": "code",
   "execution_count": 141,
   "metadata": {},
   "outputs": [],
   "source": [
    "# features standerdization\n",
    "X_std = np.copy(X)\n",
    "\n",
    "X_std[:,0] = (X_std[:,0] - X_std[:,0].mean()) / X_std[:,0].std()\n",
    "X_std[:,1] = (X_std[:,1] - X_std[:,1].mean()) / X_std[:,1].std()\n",
    "X_std[:,2] = (X_std[:,2] - X_std[:,2].mean()) / X_std[:,2].std()\n",
    "X_std[:,3] = (X_std[:,3] - X_std[:,3].mean()) / X_std[:,3].std()\n",
    "#print(X_std)"
   ]
  },
  {
   "cell_type": "code",
   "execution_count": 142,
   "metadata": {},
   "outputs": [],
   "source": [
    "# Define Logistic Regression hypothesis or sigmoid function\n",
    "def sigmoid(value):\n",
    "    return 1.0 / ( 1.0 + np.exp(-value))"
   ]
  },
  {
   "cell_type": "code",
   "execution_count": 143,
   "metadata": {},
   "outputs": [],
   "source": [
    "# Define Logistic Regression Cost Function\n",
    "def RSS(X, y, betas):\n",
    "    j=0\n",
    "    predicted_value=betas[0] + np.dot(X_std[:,0], betas[1]) + np.dot(X_std[:,1], betas[2]) + np.dot(X_std[:,2], betas[3]) + np.dot(X_std[:,3], betas[4])\n",
    "    #y = y[i]\n",
    "    hx=sigmoid(predicted_value)\n",
    "    # compute cost for given theta parameters\n",
    "    j = -y.dot(np.log(hx)) - ((1 - y).dot(np.log(1-hx)))\n",
    "    #rss = rss + ((-actual_value*np.log(pred_value)) - ((1-actual_value)*np.log(1-pred_value))) \n",
    "    return (j/X.shape[0])"
   ]
  },
  {
   "cell_type": "code",
   "execution_count": 144,
   "metadata": {},
   "outputs": [],
   "source": [
    "def predicted_value_for_ithRow(X,i,betas):\n",
    "    return (1/(1.0 + np.exp(-(betas[0] + np.dot(X_std[:,0], betas[1]) + np.dot(X_std[:,1], betas[2]) + np.dot(X_std[:,2], betas[3]) + np.dot(X_std[:,3], betas[4])))))"
   ]
  },
  {
   "cell_type": "code",
   "execution_count": 145,
   "metadata": {},
   "outputs": [],
   "source": [
    "def gradientDescentAlgorithm(x, y, learning_rate):\n",
    "    \n",
    "    print (\"Training Linear Regression Model using Gradient Descent\")\n",
    "    \n",
    "    maximum_iterations = 5000\n",
    "    converge_status = False\n",
    "    \n",
    "    # num_rows stores the number of datapoints in the current dataset provided for training.\n",
    "    num_rows = x[0].shape[0]\n",
    "\n",
    "    # Initial Value of parameters ((beta_0, beta_1) - for our simple linear regression case)\n",
    "    betas = [0,0,0,0,0]\n",
    "\n",
    "    # Initial Error or RSS(beta_0,beta_1) based on the initial parameter values\n",
    "    error = RSS(x, y, betas)\n",
    "    print('Initial Value of RSS (Cost Function)=', error);\n",
    "    \n",
    "    # Iterate Loop\n",
    "    num_iter = 0\n",
    "    while not converge_status:\n",
    "        # for each training sample, compute the gradient (d/d_beta j(beta))\n",
    "        gradient_0 = 1.0/num_rows * sum([(predicted_value_for_ithRow(x,i,betas) - y[i]) for i in range(num_rows)]) \n",
    "        gradient_1 = 1.0/num_rows * sum([(predicted_value_for_ithRow(x,i,betas) - y[i])*x[0][i] for i in range(num_rows)])\n",
    "        gradient_2 = 1.0/num_rows * sum([(predicted_value_for_ithRow(x,i,betas) - y[i])*x[1][i] for i in range(num_rows)])\n",
    "        gradient_3 = 1.0/num_rows * sum([(predicted_value_for_ithRow(x,i,betas) - y[i])*x[2][i] for i in range(num_rows)])\n",
    "        gradient_4 = 1.0/num_rows * sum([(predicted_value_for_ithRow(x,i,betas) - y[i])*x[3][i] for i in range(num_rows)])\n",
    "        \n",
    "        # Computation of new parameters according to the current gradient.\n",
    "        temp0 = betas[0] - learning_rate * gradient_0\n",
    "        temp1 = betas[1] - learning_rate * gradient_1\n",
    "        temp2 = betas[2] - learning_rate * gradient_2\n",
    "        temp3 = betas[3] - learning_rate * gradient_3\n",
    "        temp4 = betas[4] - learning_rate * gradient_4\n",
    "        \n",
    "    \n",
    "        # Simultaneous Update of Parameters Beta_0 and Beta_1.\n",
    "        betas[0] = temp0\n",
    "        betas[1] = temp1\n",
    "        betas[2] = temp2\n",
    "        betas[3] = temp3\n",
    "        betas[4] = temp4\n",
    "               \n",
    "        current_error = RSS(x, y, betas)\n",
    "        \n",
    "        if num_iter % 250 == 0:\n",
    "            print ('Iteration',num_iter+1,'Current Value of RSS (Cost Function) based on updated values of beta parameters = ', current_error)\n",
    "            \n",
    "        error = current_error   # update error \n",
    "        num_iter = num_iter + 1  # update iter\n",
    "    \n",
    "        if num_iter == maximum_iterations:\n",
    "            print (\"Training Interrupted as Maximum number of iterations were crossed.\\n\\n\")\n",
    "            converge_status = True\n",
    "\n",
    "    return (betas)"
   ]
  },
  {
   "cell_type": "code",
   "execution_count": 146,
   "metadata": {},
   "outputs": [
    {
     "name": "stdout",
     "output_type": "stream",
     "text": [
      "Training Linear Regression Model using Gradient Descent\n",
      "('Initial Value of RSS (Cost Function)=', 0.6931471805599453)\n",
      "('Iteration', 1, 'Current Value of RSS (Cost Function) based on updated values of beta parameters = ', 0.6931471806016118)\n",
      "('Iteration', 251, 'Current Value of RSS (Cost Function) based on updated values of beta parameters = ', 0.6931471910182788)\n",
      "('Iteration', 501, 'Current Value of RSS (Cost Function) based on updated values of beta parameters = ', 0.6931472014349463)\n",
      "('Iteration', 751, 'Current Value of RSS (Cost Function) based on updated values of beta parameters = ', 0.6931472118516151)\n",
      "('Iteration', 1001, 'Current Value of RSS (Cost Function) based on updated values of beta parameters = ', 0.693147222268284)\n",
      "('Iteration', 1251, 'Current Value of RSS (Cost Function) based on updated values of beta parameters = ', 0.6931472326849532)\n",
      "('Iteration', 1501, 'Current Value of RSS (Cost Function) based on updated values of beta parameters = ', 0.6931472431016239)\n",
      "('Iteration', 1751, 'Current Value of RSS (Cost Function) based on updated values of beta parameters = ', 0.6931472535182949)\n",
      "('Iteration', 2001, 'Current Value of RSS (Cost Function) based on updated values of beta parameters = ', 0.6931472639349662)\n",
      "('Iteration', 2251, 'Current Value of RSS (Cost Function) based on updated values of beta parameters = ', 0.6931472743516381)\n",
      "('Iteration', 2501, 'Current Value of RSS (Cost Function) based on updated values of beta parameters = ', 0.6931472847683114)\n",
      "('Iteration', 2751, 'Current Value of RSS (Cost Function) based on updated values of beta parameters = ', 0.693147295184985)\n",
      "('Iteration', 3001, 'Current Value of RSS (Cost Function) based on updated values of beta parameters = ', 0.6931473056016589)\n",
      "('Iteration', 3251, 'Current Value of RSS (Cost Function) based on updated values of beta parameters = ', 0.6931473160183337)\n",
      "('Iteration', 3501, 'Current Value of RSS (Cost Function) based on updated values of beta parameters = ', 0.6931473264350095)\n",
      "('Iteration', 3751, 'Current Value of RSS (Cost Function) based on updated values of beta parameters = ', 0.6931473368516854)\n",
      "('Iteration', 4001, 'Current Value of RSS (Cost Function) based on updated values of beta parameters = ', 0.693147347268362)\n",
      "('Iteration', 4251, 'Current Value of RSS (Cost Function) based on updated values of beta parameters = ', 0.6931473576850393)\n",
      "('Iteration', 4501, 'Current Value of RSS (Cost Function) based on updated values of beta parameters = ', 0.6931473681017178)\n",
      "('Iteration', 4751, 'Current Value of RSS (Cost Function) based on updated values of beta parameters = ', 0.6931473785183964)\n",
      "Training Interrupted as Maximum number of iterations were crossed.\n",
      "\n",
      "\n"
     ]
    }
   ],
   "source": [
    "# m = Number of training examples\n",
    "# n = number of features\n",
    "3#, n = X.shape\n",
    "\n",
    "# initialize theta(weights) parameters to zeros\n",
    "#theta = np.zeros(1+n)\n",
    "#print(theta)\n",
    "\n",
    "# set learning rate to 0.01 and number of iterations to 500\n",
    "#alpha = 0.01\n",
    "#num_iter = 5000\n",
    "\n",
    "coefficients = gradientDescentAlgorithm(X_std,y,0.0000000005)"
   ]
  },
  {
   "cell_type": "code",
   "execution_count": 147,
   "metadata": {},
   "outputs": [
    {
     "name": "stdout",
     "output_type": "stream",
     "text": [
      "Training Linear Regression Model using Gradient Descent\n",
      "('Initial Value of RSS (Cost Function)=', 0.6931471805599453)\n",
      "('Iteration', 1, 'Current Value of RSS (Cost Function) based on updated values of beta parameters = ', 0.6931471805682785)\n",
      "('Iteration', 251, 'Current Value of RSS (Cost Function) based on updated values of beta parameters = ', 0.6931471826516122)\n",
      "('Iteration', 501, 'Current Value of RSS (Cost Function) based on updated values of beta parameters = ', 0.6931471847349451)\n",
      "('Iteration', 751, 'Current Value of RSS (Cost Function) based on updated values of beta parameters = ', 0.6931471868182787)\n",
      "('Iteration', 1001, 'Current Value of RSS (Cost Function) based on updated values of beta parameters = ', 0.6931471889016123)\n",
      "('Iteration', 1251, 'Current Value of RSS (Cost Function) based on updated values of beta parameters = ', 0.6931471909849454)\n",
      "('Iteration', 1501, 'Current Value of RSS (Cost Function) based on updated values of beta parameters = ', 0.6931471930682792)\n",
      "('Iteration', 1751, 'Current Value of RSS (Cost Function) based on updated values of beta parameters = ', 0.6931471951516129)\n",
      "('Iteration', 2001, 'Current Value of RSS (Cost Function) based on updated values of beta parameters = ', 0.6931471972349459)\n",
      "('Iteration', 2251, 'Current Value of RSS (Cost Function) based on updated values of beta parameters = ', 0.6931471993182797)\n",
      "('Iteration', 2501, 'Current Value of RSS (Cost Function) based on updated values of beta parameters = ', 0.6931472014016136)\n",
      "('Iteration', 2751, 'Current Value of RSS (Cost Function) based on updated values of beta parameters = ', 0.6931472034849467)\n",
      "('Iteration', 3001, 'Current Value of RSS (Cost Function) based on updated values of beta parameters = ', 0.6931472055682806)\n",
      "('Iteration', 3251, 'Current Value of RSS (Cost Function) based on updated values of beta parameters = ', 0.6931472076516144)\n",
      "('Iteration', 3501, 'Current Value of RSS (Cost Function) based on updated values of beta parameters = ', 0.6931472097349478)\n",
      "('Iteration', 3751, 'Current Value of RSS (Cost Function) based on updated values of beta parameters = ', 0.6931472118182818)\n",
      "('Iteration', 4001, 'Current Value of RSS (Cost Function) based on updated values of beta parameters = ', 0.6931472139016155)\n",
      "('Iteration', 4251, 'Current Value of RSS (Cost Function) based on updated values of beta parameters = ', 0.693147215984949)\n",
      "('Iteration', 4501, 'Current Value of RSS (Cost Function) based on updated values of beta parameters = ', 0.6931472180682828)\n",
      "('Iteration', 4751, 'Current Value of RSS (Cost Function) based on updated values of beta parameters = ', 0.6931472201516163)\n",
      "Training Interrupted as Maximum number of iterations were crossed.\n",
      "\n",
      "\n"
     ]
    }
   ],
   "source": [
    "# m = Number of training examples\n",
    "# n = number of features\n",
    "m, n = X.shape\n",
    "\n",
    "# initialize theta(weights) parameters to zeros\n",
    "betas = np.zeros(1+n)\n",
    "#print(theta)\n",
    "\n",
    "# set learning rate to 0.01 and number of iterations to 500\n",
    "learning_rate = 0.0000000001\n",
    "num_iter = 5000\n",
    "cost = gradientDescentAlgorithm(X_std,y,learning_rate)"
   ]
  },
  {
   "cell_type": "code",
   "execution_count": 148,
   "metadata": {},
   "outputs": [
    {
     "data": {
      "text/plain": [
       "Text(0.5,1,'Logistic Regression')"
      ]
     },
     "execution_count": 148,
     "metadata": {},
     "output_type": "execute_result"
    },
    {
     "data": {
      "image/png": "[encoded data removed]",
      "text/plain": [
       "<Figure size 432x288 with 1 Axes>"
      ]
     },
     "metadata": {},
     "output_type": "display_data"
    }
   ],
   "source": [
    "# Make a plot with number of iterations on the x-axis and the cost function on y-axis\n",
    "plt.plot(range(1, len(cost) + 1), cost)\n",
    "plt.xlabel('Iterations')\n",
    "plt.ylabel('Cost')\n",
    "plt.title('Logistic Regression')"
   ]
  },
  {
   "cell_type": "code",
   "execution_count": null,
   "metadata": {},
   "outputs": [],
   "source": []
  },
  {
   "cell_type": "code",
   "execution_count": null,
   "metadata": {},
   "outputs": [],
   "source": []
  }
 ],
 "metadata": {
  "kernelspec": {
   "display_name": "Python 2",
   "language": "python",
   "name": "python2"
  },
  "language_info": {
   "codemirror_mode": {
    "name": "ipython",
    "version": 2
   },
   "file_extension": ".py",
   "mimetype": "text/x-python",
   "name": "python",
   "nbconvert_exporter": "python",
   "pygments_lexer": "ipython2",
   "version": "2.7.15"
  }
 },
 "nbformat": 4,
 "nbformat_minor": 2
}
